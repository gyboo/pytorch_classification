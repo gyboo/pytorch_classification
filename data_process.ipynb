{
 "cells": [
  {
   "cell_type": "code",
   "execution_count": 4,
   "id": "initial_id",
   "metadata": {
    "collapsed": true,
    "ExecuteTime": {
     "end_time": "2025-02-19T15:13:37.992915Z",
     "start_time": "2025-02-19T15:13:37.974021400Z"
    }
   },
   "outputs": [
    {
     "data": {
      "text/plain": "       image_name  ground_truth\n0  agricultural00  agricultural\n1  agricultural01  agricultural\n2  agricultural02  agricultural\n3  agricultural03  agricultural\n4  agricultural04  agricultural",
      "text/html": "<div>\n<style scoped>\n    .dataframe tbody tr th:only-of-type {\n        vertical-align: middle;\n    }\n\n    .dataframe tbody tr th {\n        vertical-align: top;\n    }\n\n    .dataframe thead th {\n        text-align: right;\n    }\n</style>\n<table border=\"1\" class=\"dataframe\">\n  <thead>\n    <tr style=\"text-align: right;\">\n      <th></th>\n      <th>image_name</th>\n      <th>ground_truth</th>\n    </tr>\n  </thead>\n  <tbody>\n    <tr>\n      <th>0</th>\n      <td>agricultural00</td>\n      <td>agricultural</td>\n    </tr>\n    <tr>\n      <th>1</th>\n      <td>agricultural01</td>\n      <td>agricultural</td>\n    </tr>\n    <tr>\n      <th>2</th>\n      <td>agricultural02</td>\n      <td>agricultural</td>\n    </tr>\n    <tr>\n      <th>3</th>\n      <td>agricultural03</td>\n      <td>agricultural</td>\n    </tr>\n    <tr>\n      <th>4</th>\n      <td>agricultural04</td>\n      <td>agricultural</td>\n    </tr>\n  </tbody>\n</table>\n</div>"
     },
     "execution_count": 4,
     "metadata": {},
     "output_type": "execute_result"
    }
   ],
   "source": [
    "import os\n",
    "import pandas as pd\n",
    "\n",
    "path = r\"D:\\Dataset\\UCMerced_LandUse_Dataset\\Images\"\n",
    "\n",
    "image_name_list = []\n",
    "ground_truth = []\n",
    "for filename in os.listdir(path):\n",
    "    for image_name in os.listdir(os.path.join(path, filename)):\n",
    "        name = image_name.split(\".\")[0]\n",
    "        image_name_list.append(name)\n",
    "        ground_truth.append(filename)\n",
    "data = pd.DataFrame({\n",
    "    \"image_name\": image_name_list,\n",
    "    \"ground_truth\": ground_truth\n",
    "})\n",
    "data.to_csv(\"docs/data.csv\", index=False, encoding=\"utf_8_sig\")\n",
    "data.head()"
   ]
  },
  {
   "cell_type": "code",
   "execution_count": 2,
   "outputs": [
    {
     "data": {
      "text/plain": "(2100, 2)"
     },
     "execution_count": 2,
     "metadata": {},
     "output_type": "execute_result"
    }
   ],
   "source": [
    "data.shape"
   ],
   "metadata": {
    "collapsed": false,
    "ExecuteTime": {
     "end_time": "2025-02-10T01:03:26.755413600Z",
     "start_time": "2025-02-10T01:03:26.739446200Z"
    }
   },
   "id": "efd34ede71e55674"
  },
  {
   "cell_type": "code",
   "execution_count": 12,
   "outputs": [],
   "source": [
    "import random\n",
    "\n",
    "train_size, test_size = 0.5, 0.5\n",
    "train_data = pd.DataFrame()\n",
    "data_group = data.groupby(\"ground_truth\")\n",
    "for kind, value in data_group:\n",
    "    data_sample_train = value.sample(int(100 * train_size))\n",
    "    train_data = pd.concat([train_data, data_sample_train])\n",
    "test_data = pd.concat([data, train_data, train_data]).drop_duplicates(keep=False)\n",
    "train_data.to_csv(\"docs/train.csv\", index=False, encoding=\"utf_8_sig\")\n",
    "test_data.to_csv(\"docs/test.csv\", index=False, encoding=\"utf_8_sig\")"
   ],
   "metadata": {
    "collapsed": false,
    "ExecuteTime": {
     "end_time": "2025-01-17T06:02:31.989028600Z",
     "start_time": "2025-01-17T06:02:31.977499900Z"
    }
   },
   "id": "2870d98c66d57611"
  },
  {
   "cell_type": "markdown",
   "source": [
    "## 生成配置文件"
   ],
   "metadata": {
    "collapsed": false
   },
   "id": "33c770a06c78078f"
  },
  {
   "cell_type": "code",
   "execution_count": 79,
   "outputs": [
    {
     "name": "stdout",
     "output_type": "stream",
     "text": [
      "YAML文件生成成功！\n"
     ]
    }
   ],
   "source": [
    "from ruamel.yaml import YAML\n",
    "from ruamel.yaml.comments import CommentedMap\n",
    "\n",
    "# 示例数据\n",
    "kind = data[\"ground_truth\"].unique()\n",
    "\n",
    "# 创建 YAML 对象并配置格式\n",
    "yaml = YAML()\n",
    "yaml.indent(mapping=2, sequence=4, offset=2)  # 设置缩进\n",
    "\n",
    "# 创建带注释的数据结构\n",
    "yaml_data = CommentedMap()\n",
    "\n",
    "# 添加顶层注释\n",
    "yaml_data.yaml_set_start_comment(\"task: classification\\nVersion: 1.0\")\n",
    "\n",
    "# 添加数据项和注释\n",
    "yaml_data['num_classes'] = len(kind)\n",
    "yaml_data.yaml_set_comment_before_after_key('num_classes', '\\nNumber of classes', indent=0)\n",
    "yaml_data['epochs'] = 10\n",
    "yaml_data.yaml_set_comment_before_after_key('epochs', 'Training configuration root keys below:\\n- epochs\\n- batch_size', indent=0)\n",
    "yaml_data['batch_size'] = 128\n",
    "yaml_data.yaml_set_comment_before_after_key('batch_size', 'Batch size for training', indent=0)\n",
    "\n",
    "# 创建 optimizer 配置\n",
    "optimizer = CommentedMap()\n",
    "optimizer['name'] = \"adam\"\n",
    "optimizer['learning_rate'] = 1e-4\n",
    "optimizer.yaml_set_comment_before_after_key('learning_rate', 'Learning rate', indent=2)\n",
    "optimizer['step_size'] = 50\n",
    "optimizer['gamma'] = 0.8\n",
    "yaml_data['optimizer'] = optimizer\n",
    "yaml_data.yaml_set_comment_before_after_key('optimizer', '\\n', indent=0)\n",
    "# 创建 model 配置\n",
    "model = CommentedMap()\n",
    "model[\"name\"] = \"vit_small\"\n",
    "model[\"pretrain\"] = False\n",
    "model[\"pretrain_weight_path\"] = \"\"\n",
    "yaml_data['model'] = model\n",
    "yaml_data.yaml_set_comment_before_after_key('model', '\\n', indent=0)\n",
    "# 其他配置项\n",
    "yaml_data['connected_csv_path'] = \"\"\n",
    "yaml_data['train_valid_dir'] = \"\"\n",
    "yaml_data['save_dir'] = \"\"\n",
    "\n",
    "# 创建 label 配置并添加注释\n",
    "label = CommentedMap()\n",
    "label.update({i: kind[i] for i in range(len(kind))})  # 动态生成字典内容\n",
    "yaml_data['label'] = label  # 赋值给 YAML 数据\n",
    "yaml_data.yaml_set_comment_before_after_key('label', '\\nlabel info:\\n- Keys are class indices\\n- Values are class names', indent=0)\n",
    "\n",
    "# 写入 YAML 文件\n",
    "path = 'docs/config_kimi.yaml'\n",
    "try:\n",
    "    with open(path, 'w', encoding='utf-8') as f:\n",
    "        yaml.dump(yaml_data, f)\n",
    "    print(\"YAML文件生成成功！\")\n",
    "except Exception as e:\n",
    "    print(f\"写入文件时出错: {e}\")\n"
   ],
   "metadata": {
    "collapsed": false,
    "ExecuteTime": {
     "end_time": "2025-02-10T04:05:36.401810600Z",
     "start_time": "2025-02-10T04:05:36.394764200Z"
    }
   },
   "id": "466e25c500d0a636"
  },
  {
   "cell_type": "markdown",
   "source": [
    "# 配置文件读取"
   ],
   "metadata": {
    "collapsed": false
   },
   "id": "4e6c139e5d44a2f2"
  },
  {
   "cell_type": "markdown",
   "source": [
    "# 方法一"
   ],
   "metadata": {
    "collapsed": false
   },
   "id": "a296656ba8235388"
  },
  {
   "cell_type": "code",
   "execution_count": 80,
   "outputs": [
    {
     "name": "stdout",
     "output_type": "stream",
     "text": [
      "YAML文件读取成功！\n",
      "{'num_classes': 21, 'epochs': 10, 'batch_size': 128, 'optimizer': {'name': 'adam', 'learning_rate': 0.0001, 'step_size': 50, 'gamma': 0.8}, 'model': {'name': 'vit_small', 'pretrain': False, 'pretrain_weight_path': ''}, 'connected_csv_path': '', 'train_valid_dir': '', 'save_dir': '', 'label': {0: 'agricultural', 1: 'airplane', 2: 'baseballdiamond', 3: 'beach', 4: 'buildings', 5: 'chaparral', 6: 'denseresidential', 7: 'forest', 8: 'freeway', 9: 'golfcourse', 10: 'harbor', 11: 'intersection', 12: 'mediumresidential', 13: 'mobilehomepark', 14: 'overpass', 15: 'parkinglot', 16: 'river', 17: 'runway', 18: 'sparseresidential', 19: 'storagetanks', 20: 'tenniscourt'}}\n"
     ]
    }
   ],
   "source": [
    "# 读取 YAML 文件\n",
    "try:\n",
    "    with open(path, 'r') as file:\n",
    "        data = yaml.load(file)\n",
    "    print(\"YAML文件读取成功！\")\n",
    "    print(data)\n",
    "except Exception as e:\n",
    "    print(f\"读取文件时出错: {e}\")"
   ],
   "metadata": {
    "collapsed": false,
    "ExecuteTime": {
     "end_time": "2025-02-11T02:38:00.765526600Z",
     "start_time": "2025-02-11T02:38:00.758515800Z"
    }
   },
   "id": "ac25afc05c07282d"
  },
  {
   "cell_type": "markdown",
   "source": [
    "# 方法2"
   ],
   "metadata": {
    "collapsed": false
   },
   "id": "aa18a97dadfe7f78"
  },
  {
   "cell_type": "code",
   "execution_count": 7,
   "outputs": [
    {
     "name": "stdout",
     "output_type": "stream",
     "text": [
      "{'path': 'D:/pycharm/yolov5-master/coco128', 'train': 'images/train2017', 'val': 'images/train2017', 'test': None, 'names': {0: 'person', 1: 'bicycle', 2: 'car', 3: 'motorcycle', 4: 'airplane', 5: 'bus', 6: 'train', 7: 'truck', 8: 'boat', 9: 'traffic light', 10: 'fire hydrant', 11: 'stop sign', 12: 'parking meter', 13: 'bench', 14: 'bird', 15: 'cat', 16: 'dog', 17: 'horse', 18: 'sheep', 19: 'cow', 20: 'elephant', 21: 'bear', 22: 'zebra', 23: 'giraffe', 24: 'backpack', 25: 'umbrella', 26: 'handbag', 27: 'tie', 28: 'suitcase', 29: 'frisbee', 30: 'skis', 31: 'snowboard', 32: 'sports ball', 33: 'kite', 34: 'baseball bat', 35: 'baseball glove', 36: 'skateboard', 37: 'surfboard', 38: 'tennis racket', 39: 'bottle', 40: 'wine glass', 41: 'cup', 42: 'fork', 43: 'knife', 44: 'spoon', 45: 'bowl', 46: 'banana', 47: 'apple', 48: 'sandwich', 49: 'orange', 50: 'broccoli', 51: 'carrot', 52: 'hot dog', 53: 'pizza', 54: 'donut', 55: 'cake', 56: 'chair', 57: 'couch', 58: 'potted plant', 59: 'bed', 60: 'dining table', 61: 'toilet', 62: 'tv', 63: 'laptop', 64: 'mouse', 65: 'remote', 66: 'keyboard', 67: 'cell phone', 68: 'microwave', 69: 'oven', 70: 'toaster', 71: 'sink', 72: 'refrigerator', 73: 'book', 74: 'clock', 75: 'vase', 76: 'scissors', 77: 'teddy bear', 78: 'hair drier', 79: 'toothbrush'}, 'download': 'https://github.com/ultralytics/assets/releases/download/v0.0.0/coco128.zip'}\n"
     ]
    }
   ],
   "source": [
    "import yaml\n",
    "with open(\"D:\\pycharm\\yolov5-master\\data\\coco128.yaml\", 'r', encoding='utf-8') as f:\n",
    "    result = yaml.load_all(f.read(), Loader=yaml.FullLoader)\n",
    "label_dict = {}\n",
    "for item in result:\n",
    "    print(item)"
   ],
   "metadata": {
    "collapsed": false,
    "ExecuteTime": {
     "end_time": "2025-02-10T01:08:07.969793800Z",
     "start_time": "2025-02-10T01:08:07.933174800Z"
    }
   },
   "id": "b73771d8d4488037"
  },
  {
   "cell_type": "code",
   "execution_count": 8,
   "outputs": [
    {
     "name": "stdout",
     "output_type": "stream",
     "text": [
      "YAML文件生成成功！\n"
     ]
    }
   ],
   "source": [
    "import os\n",
    "import pandas as pd\n",
    "from ruamel.yaml import YAML\n",
    "from ruamel.yaml.comments import CommentedMap\n",
    "\n",
    "\n",
    "path = r\"D:\\Dataset\\UCMerced_LandUse_Dataset\\Images\"\n",
    "\n",
    "image_name_list = []\n",
    "ground_truth = []\n",
    "for filename in os.listdir(path):\n",
    "    for image_name in os.listdir(os.path.join(path, filename)):\n",
    "        name = image_name.split(\".\")[0]\n",
    "        image_name_list.append(name)\n",
    "        ground_truth.append(filename)\n",
    "data = pd.DataFrame({\n",
    "    \"image_name\": image_name_list,\n",
    "    \"ground_truth\": ground_truth\n",
    "})\n",
    "data.to_csv(\"docs/data.csv\", index=False, encoding=\"utf_8_sig\")\n",
    "# data.head()\n",
    "# 创建YAML对象并配置格式\n",
    "yaml = YAML()\n",
    "yaml.indent(mapping=2, sequence=4, offset=2)  # 设置缩进\n",
    "\n",
    "# 创建带注释的数据结构\n",
    "data = CommentedMap()\n",
    "\n",
    "# 添加顶层注释\n",
    "data.yaml_set_start_comment(\n",
    "    \"task: classification\"\n",
    ")\n",
    "\n",
    "# 添加数据项和注释\n",
    "app_info = CommentedMap()\n",
    "data['app'] = app_info\n",
    "app_info['name'] = '我的应用'\n",
    "app_info.yaml_set_comment_before_after_key('name', '应用名称', indent=0)\n",
    "\n",
    "app_info['version'] = '1.0.0'\n",
    "app_info.yaml_set_comment_before_after_key('version', '当前版本号')\n",
    "\n",
    "app_info['author'] = {'name': '张三', 'email': 'zhangsan@example.com'}\n",
    "app_info.yaml_set_comment_before_after_key('author', '作者信息，包含姓名和邮箱')\n",
    "\n",
    "# 标签信息\n",
    "data['tags'] = ['web', 'python', 'backend']\n",
    "data.yaml_set_comment_before_after_key('tags', '应用相关的标签列表\\n- 按重要性排序\\n- 最多5个标签', indent=0)\n",
    "\n",
    "# 数据库配置\n",
    "data['database'] = db_config = CommentedMap()\n",
    "db_config['host'] = 'localhost'\n",
    "db_config['port'] = 3306\n",
    "db_config['credentials'] = {'username': 'admin', 'password': 'secret'}\n",
    "db_config.yaml_set_comment_before_after_key('credentials', '数据库认证信息 (敏感内容请勿提交)')\n",
    "\n",
    "try:\n",
    "    with open('docs/config.yml', 'w', encoding='utf-8') as f:\n",
    "        yaml.dump(data, f)\n",
    "    print(\"YAML文件生成成功！\")\n",
    "except Exception as e:\n",
    "    print(f\"写入文件时出错: {e}\")"
   ],
   "metadata": {
    "collapsed": false,
    "ExecuteTime": {
     "end_time": "2025-02-19T15:21:55.487825500Z",
     "start_time": "2025-02-19T15:21:55.471398700Z"
    }
   },
   "id": "23fc1695926de997"
  },
  {
   "cell_type": "code",
   "execution_count": 66,
   "outputs": [
    {
     "name": "stdout",
     "output_type": "stream",
     "text": [
      "eventtt <class 'ruamel.yaml.events.MappingStartEvent'> MappingStartEvent(tag='tag:yaml.org,2002:map', implicit=True, flow_style=False, comment=[None, [CommentToken('# batch_size\\n', col: 这是第一行注释\n",
      "这是第二行注释\n",
      "第三行注释)], []])写入文件时出错: '<' not supported between instances of 'str' and 'int'\n",
      "YAML文件读取成功！\n",
      "None\n"
     ]
    }
   ],
   "source": [
    "from ruamel.yaml import YAML\n",
    "from ruamel.yaml.comments import CommentedMap\n",
    "# 创建YAML对象并配置格式\n",
    "yaml = YAML()\n",
    "# yaml.indent(mapping=2, sequence=4, offset=2)  # 设置缩进\n",
    "\n",
    "# 创建带注释的数据结构\n",
    "data = CommentedMap()\n",
    "\n",
    "# 添加顶层注释\n",
    "data.yaml_set_start_comment(\n",
    "    \"task: classification\"\n",
    ")\n",
    "\n",
    "# 添加数据项和注释\n",
    "app_info = CommentedMap()\n",
    "data['num_classes'] = len(kind)\n",
    "data['epochs'] = 10\n",
    "data.yaml_set_comment_before_after_key('epochs', 'training parameters', indent=0)\n",
    "data['batch_size'] = 128\n",
    "# data.yaml_set_start_comment(\"batch_size\", \"这是第一行注释\\n这是第二行注释\\n第三行注释\")\n",
    "data['optimizer'] = CommentedMap()\n",
    "data['optimizer']['name'] = \"adam\"\n",
    "data['optimizer']['learning_rate'] = 1e-4\n",
    "data['optimizer']['step_size'] = 50\n",
    "data['optimizer']['gamma'] = 0.8\n",
    "\n",
    "data['model'] = CommentedMap()\n",
    "data['model'][\"pretrain\"] = False\n",
    "data['model'][\"pretrain_weight_path\"] = \"\"\n",
    "\n",
    "data['connected_csv_path'] = \"\"\n",
    "data['train_valid_dir'] = \"\"\n",
    "data['save_dir'] = \"\"\n",
    "\n",
    "# data['label'] = CommentedMap()\n",
    "data['label'] = {i: kind[i] for i in range(len(kind))}, \n",
    "data.yaml_set_comment_before_after_key('label', 'label info', indent=0)\n",
    "path = 'docs/config_yaogan.yaml'\n",
    "try:\n",
    "    with open(path, 'w', encoding='utf-8') as f:\n",
    "        yaml.dump(data, f)\n",
    "    print(\"YAML文件生成成功！\")\n",
    "except Exception as e:\n",
    "    print(f\"写入文件时出错: {e}\")\n",
    "try:\n",
    "    yaml = YAML()\n",
    "    with open(path, 'r') as file:\n",
    "        data = yaml.load(file)\n",
    "    print(\"YAML文件读取成功！\")\n",
    "    print(data)\n",
    "except Exception as e:\n",
    "    print(f\"读取文件时出错: {e}\")"
   ],
   "metadata": {
    "collapsed": false,
    "ExecuteTime": {
     "end_time": "2025-02-10T03:21:17.776403500Z",
     "start_time": "2025-02-10T03:21:17.771032800Z"
    }
   },
   "id": "5c14e66a4fb12761"
  },
  {
   "cell_type": "code",
   "execution_count": 15,
   "outputs": [
    {
     "name": "stdout",
     "output_type": "stream",
     "text": [
      "{'app': {'name': '我的应用', 'version': '1.0.0', 'author': {'name': '张三', 'email': 'zhangsan@example.com'}}, 'tags': ['web', 'python', 'backend'], 'database': {'host': 'localhost', 'port': 3306, 'credentials': {'username': 'admin', 'password': 'secret'}}}\n"
     ]
    }
   ],
   "source": [
    "import yaml\n",
    "\n",
    "with open(\"docs\\config.yml\", 'r', encoding='utf-8') as f:\n",
    "    result = yaml.load_all(f.read(), Loader=yaml.FullLoader)\n",
    "label_dict = {}\n",
    "for item in result:\n",
    "    print(item)"
   ],
   "metadata": {
    "collapsed": false,
    "ExecuteTime": {
     "end_time": "2025-02-10T01:44:12.501222Z",
     "start_time": "2025-02-10T01:44:12.485386900Z"
    }
   },
   "id": "3c69472f77d47f4e"
  },
  {
   "cell_type": "code",
   "execution_count": 2,
   "outputs": [
    {
     "data": {
      "text/plain": "       image_name  ground_truth\n0  agricultural00  agricultural\n1  agricultural01  agricultural\n2  agricultural02  agricultural\n3  agricultural03  agricultural\n4  agricultural04  agricultural",
      "text/html": "<div>\n<style scoped>\n    .dataframe tbody tr th:only-of-type {\n        vertical-align: middle;\n    }\n\n    .dataframe tbody tr th {\n        vertical-align: top;\n    }\n\n    .dataframe thead th {\n        text-align: right;\n    }\n</style>\n<table border=\"1\" class=\"dataframe\">\n  <thead>\n    <tr style=\"text-align: right;\">\n      <th></th>\n      <th>image_name</th>\n      <th>ground_truth</th>\n    </tr>\n  </thead>\n  <tbody>\n    <tr>\n      <th>0</th>\n      <td>agricultural00</td>\n      <td>agricultural</td>\n    </tr>\n    <tr>\n      <th>1</th>\n      <td>agricultural01</td>\n      <td>agricultural</td>\n    </tr>\n    <tr>\n      <th>2</th>\n      <td>agricultural02</td>\n      <td>agricultural</td>\n    </tr>\n    <tr>\n      <th>3</th>\n      <td>agricultural03</td>\n      <td>agricultural</td>\n    </tr>\n    <tr>\n      <th>4</th>\n      <td>agricultural04</td>\n      <td>agricultural</td>\n    </tr>\n  </tbody>\n</table>\n</div>"
     },
     "execution_count": 2,
     "metadata": {},
     "output_type": "execute_result"
    }
   ],
   "source": [
    "import os\n",
    "import pandas as pd\n",
    "\n",
    "path = r\"D:\\Dataset\\UCMerced_LandUse_Dataset\\Images\"\n",
    "\n",
    "image_name_list = []\n",
    "ground_truth = []\n",
    "for filename in os.listdir(path):\n",
    "    for image_name in os.listdir(os.path.join(path, filename)):\n",
    "        name = image_name.split(\".\")[0]\n",
    "        image_name_list.append(name)\n",
    "        ground_truth.append(filename)\n",
    "data = pd.DataFrame({\n",
    "    \"image_name\": image_name_list,\n",
    "    \"ground_truth\": ground_truth\n",
    "})\n",
    "# data.to_csv(\"docs/data.csv\", index=False, encoding=\"utf_8_sig\")\n",
    "data.head()"
   ],
   "metadata": {
    "collapsed": false,
    "ExecuteTime": {
     "end_time": "2025-02-19T09:24:42.142684600Z",
     "start_time": "2025-02-19T09:24:40.612988400Z"
    }
   },
   "id": "1ef8b5d87746e165"
  },
  {
   "cell_type": "code",
   "execution_count": 5,
   "outputs": [
    {
     "name": "stdout",
     "output_type": "stream",
     "text": [
      "YAML文件生成成功！\n",
      "YAML文件读取成功！\n",
      "{'data_path': 'D:\\\\Dataset\\\\UCMerced_LandUse_Dataset\\\\Images', 'table_path': 'docs/data.csv', 'index_name': 'image_name', 'target_label': 'ground_truth', 'train_radio': 0.5, 'num_classes': 21, 'epochs': 10, 'batch_size': 128, 'optimizer': {'name': 'adam', 'learning_rate': 0.0001, 'step_size': 50, 'gamma': 0.8}, 'model': {'name': 'vit_small', 'pretrain': False, 'pretrain_weight_path': ''}, 'connected_csv_path': '', 'train_valid_dir': '', 'save_dir': '', 'label': {0: 'agricultural', 1: 'airplane', 2: 'baseballdiamond', 3: 'beach', 4: 'buildings', 5: 'chaparral', 6: 'denseresidential', 7: 'forest', 8: 'freeway', 9: 'golfcourse', 10: 'harbor', 11: 'intersection', 12: 'mediumresidential', 13: 'mobilehomepark', 14: 'overpass', 15: 'parkinglot', 16: 'river', 17: 'runway', 18: 'sparseresidential', 19: 'storagetanks', 20: 'tenniscourt'}}\n"
     ]
    }
   ],
   "source": [
    "from ruamel.yaml import YAML\n",
    "from ruamel.yaml.comments import CommentedMap\n",
    "import os\n",
    "import pandas as pd\n",
    "\n",
    "path = r\"D:\\Dataset\\UCMerced_LandUse_Dataset\\Images\"\n",
    "\n",
    "path_list, image_name_list = [], []\n",
    "ground_truth = []\n",
    "for filename in os.listdir(path):\n",
    "    for image_name in os.listdir(os.path.join(path, filename)):\n",
    "        path_list.append(os.path.join(path, filename, image_name))\n",
    "        name = image_name.split(\".\")[0]\n",
    "        image_name_list.append(name)\n",
    "        ground_truth.append(filename)\n",
    "data = pd.DataFrame({\n",
    "    \"image_path\": path_list,\n",
    "    \"image_name\": image_name_list,\n",
    "    \"ground_truth\": ground_truth\n",
    "})\n",
    "data.to_csv(\"docs/data.csv\", index=False, encoding=\"utf_8_sig\")\n",
    "# 示例数据\n",
    "kind = data[\"ground_truth\"].unique()\n",
    "\n",
    "# 创建 YAML 对象并配置格式\n",
    "yaml = YAML()\n",
    "yaml.indent(mapping=2, sequence=4, offset=2)  # 设置缩进\n",
    "\n",
    "# 创建带注释的数据结构\n",
    "yaml_data = CommentedMap()\n",
    "\n",
    "# 添加顶层注释\n",
    "yaml_data.yaml_set_start_comment(\"task: classification\\nVersion: 1.0\")\n",
    "yaml_data['data_path'] = path\n",
    "yaml_data.yaml_set_comment_before_after_key('data path', indent=0)\n",
    "yaml_data['table_path'] = \"docs/data.csv\"\n",
    "yaml_data.yaml_set_comment_before_after_key('table path', indent=0)\n",
    "yaml_data['index_name'] = \"image_name\"\n",
    "yaml_data.yaml_set_comment_before_after_key('index_name', '', indent=0)\n",
    "yaml_data['target_label'] = \"ground_truth\"\n",
    "yaml_data.yaml_set_comment_before_after_key('target_label', '', indent=0)\n",
    "yaml_data['train_radio'] = 0.5\n",
    "yaml_data.yaml_set_comment_before_after_key('train_radio', '', indent=0)\n",
    "\n",
    "# 添加数据项和注释\n",
    "yaml_data['num_classes'] = len(kind)\n",
    "yaml_data.yaml_set_comment_before_after_key('num_classes', '\\nNumber of classes', indent=0)\n",
    "yaml_data['epochs'] = 10\n",
    "yaml_data.yaml_set_comment_before_after_key('epochs', 'Training configuration root keys below:\\n- epochs\\n- batch_size', indent=0)\n",
    "yaml_data['batch_size'] = 128\n",
    "yaml_data.yaml_set_comment_before_after_key('batch_size', 'Batch size for training', indent=0)\n",
    "\n",
    "# 创建 optimizer 配置\n",
    "optimizer = CommentedMap()\n",
    "optimizer['name'] = \"adam\"\n",
    "optimizer['learning_rate'] = 1e-4\n",
    "optimizer.yaml_set_comment_before_after_key('learning_rate', 'Learning rate', indent=2)\n",
    "optimizer['step_size'] = 50\n",
    "optimizer['gamma'] = 0.8\n",
    "yaml_data['optimizer'] = optimizer\n",
    "yaml_data.yaml_set_comment_before_after_key('optimizer', '\\n', indent=0)\n",
    "# 创建 model 配置\n",
    "model = CommentedMap()\n",
    "model[\"name\"] = \"vit_small\"\n",
    "model[\"pretrain\"] = False\n",
    "model[\"pretrain_weight_path\"] = \"\"\n",
    "yaml_data['model'] = model\n",
    "yaml_data.yaml_set_comment_before_after_key('model', '\\n', indent=0)\n",
    "# 其他配置项\n",
    "yaml_data['connected_csv_path'] = \"\"\n",
    "yaml_data['train_valid_dir'] = \"\"\n",
    "yaml_data['save_dir'] = \"\"\n",
    "\n",
    "# 创建 label 配置并添加注释\n",
    "label = CommentedMap()\n",
    "label.update({i: kind[i] for i in range(len(kind))})  # 动态生成字典内容\n",
    "yaml_data['label'] = label  # 赋值给 YAML 数据\n",
    "yaml_data.yaml_set_comment_before_after_key('label', '\\nlabel info:\\n- Keys are class indices\\n- Values are class names', indent=0)\n",
    "\n",
    "# 写入 YAML 文件\n",
    "path = 'docs/config_kimi.yaml'\n",
    "try:\n",
    "    with open(path, 'w', encoding='utf-8') as f:\n",
    "        yaml.dump(yaml_data, f)\n",
    "    print(\"YAML文件生成成功！\")\n",
    "except Exception as e:\n",
    "    print(f\"写入文件时出错: {e}\")\n",
    "\n",
    "# 读取 YAML 文件\n",
    "try:\n",
    "    with open(path, 'r') as file:\n",
    "        data = yaml.load(file)\n",
    "    print(\"YAML文件读取成功！\")\n",
    "    print(data)\n",
    "except Exception as e:\n",
    "    print(f\"读取文件时出错: {e}\")"
   ],
   "metadata": {
    "collapsed": false,
    "ExecuteTime": {
     "end_time": "2025-02-20T09:17:18.363335500Z",
     "start_time": "2025-02-20T09:17:18.340237100Z"
    }
   },
   "id": "189d0a5722b08426"
  }
 ],
 "metadata": {
  "kernelspec": {
   "display_name": "Python 3",
   "language": "python",
   "name": "python3"
  },
  "language_info": {
   "codemirror_mode": {
    "name": "ipython",
    "version": 2
   },
   "file_extension": ".py",
   "mimetype": "text/x-python",
   "name": "python",
   "nbconvert_exporter": "python",
   "pygments_lexer": "ipython2",
   "version": "2.7.6"
  }
 },
 "nbformat": 4,
 "nbformat_minor": 5
}
